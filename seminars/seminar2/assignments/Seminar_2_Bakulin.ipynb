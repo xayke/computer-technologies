{
  "nbformat": 4,
  "nbformat_minor": 0,
  "metadata": {
    "colab": {
      "name": "Seminar_2_Bakulin.ipynb",
      "provenance": [],
      "collapsed_sections": []
    },
    "kernelspec": {
      "name": "python3",
      "display_name": "Python 3"
    }
  },
  "cells": [
    {
      "cell_type": "markdown",
      "metadata": {
        "id": "wyNUtQLITkVq"
      },
      "source": [
        "# Семинар 2"
      ]
    },
    {
      "cell_type": "markdown",
      "metadata": {
        "id": "oYOdhK_kTnkz"
      },
      "source": [
        "### 1. Основы NumPy\r\n",
        "NumPy - это библиотека для работы с научными расчетами в Python. Она предоставляет возможность высокопроизводительной работы с многомерными массивами и инструменты, для работы с ними.  \r\n",
        "\r\n",
        "#### **Создание массивов:**"
      ]
    },
    {
      "cell_type": "code",
      "metadata": {
        "id": "R6w_u1tPSiyP"
      },
      "source": [
        "import numpy as np\r\n",
        "\r\n",
        "one_dim_array = np.array([1, 2, 3])\r\n",
        "two_dim_array = np.array([[1, 2, 3], [4, 5, 6]])\r\n",
        "three_dim_array = np. array([[(1, 2, 3), (4, 5, 6)], [(7, 8, 9), (10, 11, 12)]])\r\n",
        "\r\n",
        "print(\"1D array: \")\r\n",
        "print(one_dim_array)\r\n",
        "\r\n",
        "print(\"2D array: \")\r\n",
        "print(two_dim_array)\r\n",
        "\r\n",
        "print(\"3D array: \")\r\n",
        "print(three_dim_array)"
      ],
      "execution_count": null,
      "outputs": []
    },
    {
      "cell_type": "markdown",
      "metadata": {
        "id": "l7iW7fqmYbCt"
      },
      "source": [
        "В NumPy есть возможность инициализировать массив нулей и массив единиц:"
      ]
    },
    {
      "cell_type": "code",
      "metadata": {
        "colab": {
          "base_uri": "https://localhost:8080/"
        },
        "id": "i-1pVTwYgeiK",
        "outputId": "198fa0f1-a434-48c6-e389-6c684d8e15e6"
      },
      "source": [
        "zeros = np.zeros((3, 4))\r\n",
        "print(zeros)\r\n",
        "\r\n",
        "ones = np.ones((2, 3, 4))\r\n",
        "print(ones)"
      ],
      "execution_count": 6,
      "outputs": [
        {
          "output_type": "stream",
          "text": [
            "[[0. 0. 0. 0.]\n",
            " [0. 0. 0. 0.]\n",
            " [0. 0. 0. 0.]]\n",
            "[[[1. 1. 1. 1.]\n",
            "  [1. 1. 1. 1.]\n",
            "  [1. 1. 1. 1.]]\n",
            "\n",
            " [[1. 1. 1. 1.]\n",
            "  [1. 1. 1. 1.]\n",
            "  [1. 1. 1. 1.]]]\n"
          ],
          "name": "stdout"
        }
      ]
    },
    {
      "cell_type": "markdown",
      "metadata": {
        "id": "MHK0oGt0kmXn"
      },
      "source": [
        "Также можно созздавать массивы случайных чисел, пустые массивы и мн. др.  \r\n",
        "  \r\n",
        "Для указания типа элементов массива можно пользоваться входным полем dtype и его значениями, которые характеризуют тип значений:"
      ]
    },
    {
      "cell_type": "code",
      "metadata": {
        "id": "Mc98xnX6lNYb"
      },
      "source": [
        "np.int64 # целочисленное значение\r\n",
        "np.float32 # числа с 'плавающей точкой'\r\n",
        "np.complex # комплексные числа\r\n",
        "np.bool # True или False\r\n",
        "np.object # объекты python\r\n",
        "np.string_ # строковые значения фиксированной длинны\r\n",
        "np.unicode_ # значения фиксированной длинны в юникоде"
      ],
      "execution_count": null,
      "outputs": []
    },
    {
      "cell_type": "markdown",
      "metadata": {
        "id": "MfjKjbmImH1N"
      },
      "source": [
        "В NumPy, при создании объекта массива у него инициализируется еще ряд полей:"
      ]
    },
    {
      "cell_type": "code",
      "metadata": {
        "id": "rwXi1i52mT3Q"
      },
      "source": [
        "a = np.array([[1, 2, 3], [4, 5, 6], [7, 8, 9]])\r\n",
        "print(a.shape) #возвращает массив с измерениями массива\r\n",
        "print(a.ndim) #возвращает размерность массива\r\n",
        "print(a.size) # возвращает количество элементов массива\r\n"
      ],
      "execution_count": null,
      "outputs": []
    },
    {
      "cell_type": "markdown",
      "metadata": {
        "id": "n0mkJtw5nUs3"
      },
      "source": [
        "NumPy также умеет проводить арифметические функции с массивами, имеет ряд агрегационных функций, умеет сравнивать массивы поэлементно, производить сортировку и многое другое."
      ]
    },
    {
      "cell_type": "markdown",
      "metadata": {
        "id": "7bgw2taHnyJD"
      },
      "source": [
        "### 2. Линейная алгебра в SciPy\r\n",
        "SciPy - это  еще одна библиотека для научных расчетов в Python. Она основана на базе библиотеки NumPy и является её расширением.  \r\n",
        "Модуль для работы с линейной алгеброй в SciPy linalg включает в себя и расширяет\r\n",
        "модуль linalg из NumPy.  \r\n",
        "  \r\n",
        "Начнем как обычно с импорта и инициализации массивов:"
      ]
    },
    {
      "cell_type": "code",
      "metadata": {
        "colab": {
          "base_uri": "https://localhost:8080/"
        },
        "id": "upffUYbVpVBn",
        "outputId": "c078d7bb-036f-4c61-d542-c53e6238d106"
      },
      "source": [
        "from scipy import linalg, sparse\r\n",
        "\r\n",
        "# создадим базовый набор массивов\r\n",
        "A = np.matrix(np.random.random((2, 2))) # матрица 2x2 со случайными значениями от 0 до 1\r\n",
        "B = np.asmatrix(A) # копируем матрицу A\r\n",
        "C = np.mat(np.random.random((10, 5)))\r\n",
        "D = np.mat([[3, 4], [5, 6]])\r\n",
        "print(\"A=\\n%s\" % A)\r\n",
        "print(\"B=\\n%s\" % B)\r\n",
        "print(\"C=\\n%s\" % C)\r\n",
        "print(\"D=\\n%s\" % D)"
      ],
      "execution_count": 17,
      "outputs": [
        {
          "output_type": "stream",
          "text": [
            "A=\n",
            "[[0.89334205 0.93912762]\n",
            " [0.26378725 0.05061431]]\n",
            "B=\n",
            "[[0.89334205 0.93912762]\n",
            " [0.26378725 0.05061431]]\n",
            "C=\n",
            "[[0.34220774 0.94876121 0.60381791 0.04700848 0.29539019]\n",
            " [0.49945328 0.36382262 0.68472202 0.57887806 0.57613935]\n",
            " [0.32363327 0.54795136 0.69396763 0.17534387 0.21387711]\n",
            " [0.95747763 0.89985942 0.90840668 0.74757111 0.43093495]\n",
            " [0.594679   0.07562995 0.96167055 0.51060774 0.93293493]\n",
            " [0.45783344 0.59628293 0.20368474 0.89968691 0.67023856]\n",
            " [0.87563817 0.34972513 0.00447343 0.90551814 0.74223414]\n",
            " [0.38842489 0.95194532 0.77911176 0.87914403 0.52293081]\n",
            " [0.19586376 0.51612186 0.50561873 0.45345935 0.14786394]\n",
            " [0.05879222 0.63305463 0.11867118 0.88570168 0.36021259]]\n",
            "D=\n",
            "[[3 4]\n",
            " [5 6]]\n"
          ],
          "name": "stdout"
        }
      ]
    },
    {
      "cell_type": "markdown",
      "metadata": {
        "id": "rQafcZT5rbTj"
      },
      "source": [
        "В линейной алгебре встречается ряд действий с матрицами, например нахождение определителя (детерминанта) матрицы, транспонирование матрицы и мн. др.  \r\n",
        "Вот несколько примеров (**ВНИМАНИЕ! Для работы всех следующих кусков кода, требуется запустить предыдущий хотя бы один раз**):"
      ]
    },
    {
      "cell_type": "code",
      "metadata": {
        "colab": {
          "base_uri": "https://localhost:8080/"
        },
        "id": "N_F1GUUqr0Bo",
        "outputId": "4b9ec000-8665-4d4c-efdc-30dfdd33400e"
      },
      "source": [
        "print(\"Определитель матрицы A =\\n%s\" % linalg.det(A))\r\n",
        "print(\"Транспонированная матрица  D =\\n%s\" % D.T)\r\n",
        "print(\"Норма матрицы B = %s\" % linalg.norm(B))\r\n",
        "print(\"Ранг матрицы A = %s\" % np.linalg.matrix_rank(C))"
      ],
      "execution_count": 30,
      "outputs": [
        {
          "output_type": "stream",
          "text": [
            "Определитель матрицы A =\n",
            "-0.2025139964044584\n",
            "Транспонированная матрица  D =\n",
            "[[3 5]\n",
            " [4 6]]\n",
            "Норма матрицы B = 1.3236941577397046\n",
            "Ранг матрицы A = 2\n"
          ],
          "name": "stdout"
        }
      ]
    },
    {
      "cell_type": "markdown",
      "metadata": {
        "id": "l1BrIMjCuvD3"
      },
      "source": [
        "Матричные функции:"
      ]
    },
    {
      "cell_type": "code",
      "metadata": {
        "colab": {
          "base_uri": "https://localhost:8080/"
        },
        "id": "OnvrrNRDuxxH",
        "outputId": "d3e4355b-06fe-446f-cfd2-492e3a7181af"
      },
      "source": [
        "print(\"D x 2 = \\n%s\\n---------------------\" % np.multiply(D, 2))\r\n",
        "print(\"D / 2 = \\n%s\\n---------------------\" % np.divide(D, 2))\r\n",
        "print(\"A + D = \\n%s\\n---------------------\" % np.add(A, D))\r\n",
        "print(\"D - A = \\n%s\\n---------------------\" % np.subtract(D, A))\r\n",
        "print(\"A x D = \\n%s\\n---------------------\" % np.multiply(A, D))\r\n",
        "print(\"D / A = \\n%s\\n---------------------\" % np.divide(D, A))"
      ],
      "execution_count": 41,
      "outputs": [
        {
          "output_type": "stream",
          "text": [
            "D x 2 = \n",
            "[[ 6  8]\n",
            " [10 12]]\n",
            "---------------------\n",
            "D / 2 = \n",
            "[[1.5 2. ]\n",
            " [2.5 3. ]]\n",
            "---------------------\n",
            "A + D = \n",
            "[[3.89334205 4.93912762]\n",
            " [5.26378725 6.05061431]]\n",
            "---------------------\n",
            "D - A = \n",
            "[[2.10665795 3.06087238]\n",
            " [4.73621275 5.94938569]]\n",
            "---------------------\n",
            "A x D = \n",
            "[[2.68002615 3.75651048]\n",
            " [1.31893623 0.30368586]]\n",
            "---------------------\n",
            "D / A = \n",
            "[[  3.35817619   4.25927203]\n",
            " [ 18.95466929 118.54355071]]\n",
            "---------------------\n"
          ],
          "name": "stdout"
        }
      ]
    }
  ]
}