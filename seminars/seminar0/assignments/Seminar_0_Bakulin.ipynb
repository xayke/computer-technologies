{
  "nbformat": 4,
  "nbformat_minor": 0,
  "metadata": {
    "colab": {
      "name": "Seminar_0_Bakulin",
      "provenance": [],
      "collapsed_sections": []
    },
    "kernelspec": {
      "name": "python3",
      "display_name": "Python 3"
    }
  },
  "cells": [
    {
      "cell_type": "markdown",
      "metadata": {
        "id": "AQte-7JBzLU4"
      },
      "source": [
        "Семинар 0\r\n",
        "========================\r\n",
        "**Пример жирного текста**  \r\n",
        "*Пример курсивного текста*  \r\n",
        "  \r\n",
        "Пример неупорядоченного списка: \r\n",
        "* Первый элемент;\r\n",
        "* Второй элемент;\r\n",
        "* Третий элемент;\r\n",
        "* Четвертый элемент.\r\n",
        "  \r\n",
        "Пример упорядоченного списка:\r\n",
        "1. Первый элемент;\r\n",
        "2. Второй элемент;\r\n",
        "3. Третий элемент.\r\n",
        "  \r\n",
        "В Markdown можно добавить ссылки:  \r\n",
        "[Место для отдыха](https://www.youtube.com/watch?v=mml46rXspXQ)  \r\n",
        "картинки:  \r\n",
        "![wow](https://media.giphy.com/media/3oriO13KTkzPwTykp2/giphy.gif)\r\n",
        "     \r\n",
        "И даже формулы! Вот например формула Эйнштейна: $$E=mc^2 $$\r\n",
        "  \r\n",
        "А так же целые куски кода:\r\n",
        "```java\r\n",
        "  public class Hello {\r\n",
        "    public static void main(String[] args) {\r\n",
        "        System.out.println(\"Hello, World!\");\r\n",
        "    }\r\n",
        "  }\r\n",
        "```\r\n",
        "  \r\n",
        "И многое и многое другое :)\r\n",
        "\r\n",
        "\r\n"
      ]
    }
  ]
}