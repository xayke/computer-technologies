{
  "nbformat": 4,
  "nbformat_minor": 0,
  "metadata": {
    "colab": {
      "name": "Seminar_5_Bakulin.ipynb",
      "provenance": [],
      "collapsed_sections": [],
      "toc_visible": true
    },
    "kernelspec": {
      "name": "python3",
      "display_name": "Python 3"
    }
  },
  "cells": [
    {
      "cell_type": "markdown",
      "metadata": {
        "id": "lzG1WPwU1vBa"
      },
      "source": [
        "# Семинар 5"
      ]
    },
    {
      "cell_type": "markdown",
      "metadata": {
        "id": "tTIt2-qiNTJG"
      },
      "source": [
        "### **Изучаем Scikit**\r\n",
        "***Scikit*** - библиотке Python с открытым исходным кодом, которая реализует комплекс инструментов для машинного обучения, предобработку, кросс-валидацию и алгоритмы визуализации. \r\n",
        "   \r\n",
        "Например так будет выглядеть пример классификации, с использованием метода k-ближайших соседей, вида ириса, по его характеристикам:"
      ]
    },
    {
      "cell_type": "code",
      "metadata": {
        "id": "UUZpIvO0y-QI",
        "colab": {
          "base_uri": "https://localhost:8080/"
        },
        "outputId": "a7aea108-0277-43cc-fa50-f2b4f2cfcb21"
      },
      "source": [
        "from sklearn import neighbors, datasets, preprocessing\r\n",
        "from sklearn.model_selection import train_test_split\r\n",
        "from sklearn.metrics import accuracy_score\r\n",
        "\r\n",
        "iris = datasets.load_iris()\r\n",
        "X, y = iris.data[:, :2], iris.target\r\n",
        "X_train, X_test, y_train, y_test = train_test_split(X,y,random_state=33)\r\n",
        "scaler = preprocessing.StandardScaler().fit(X_train)\r\n",
        "X_train = scaler.transform(X_train)\r\n",
        "X_test = scaler.transform(X_test)\r\n",
        "knn = neighbors.KNeighborsClassifier(n_neighbors=5)\r\n",
        "knn.fit(X_train, y_train)\r\n",
        "y_pred = knn.predict(X_test)\r\n",
        "accuracy_score(y_test, y_pred)"
      ],
      "execution_count": 58,
      "outputs": [
        {
          "output_type": "execute_result",
          "data": {
            "text/plain": [
              "0.631578947368421"
            ]
          },
          "metadata": {
            "tags": []
          },
          "execution_count": 58
        }
      ]
    },
    {
      "cell_type": "markdown",
      "metadata": {
        "id": "4KpgTCeRfo0T"
      },
      "source": [
        "Сам процесс машинного обучения состоит из нескольких этапов:"
      ]
    },
    {
      "cell_type": "markdown",
      "metadata": {
        "id": "2uMX6Mx3gtGx"
      },
      "source": [
        "#### **1. Загрузка данных**\r\n",
        "Чтобы пользоваться инструментами, которые предоставляет Scikit, необходимо, чтобы данных были в числовом формате и хранились в массивах NumPy или матрицах SciPy, однако допустимы и такие форматы данных, как DaraFrame'ы из Pandas"
      ]
    },
    {
      "cell_type": "code",
      "metadata": {
        "id": "rxD_jv4biFwf"
      },
      "source": [
        "import numpy as np\r\n",
        "\r\n",
        "X = np.random.random((10, 5))\r\n",
        "y = np.array(['M', 'M', 'F', 'F', 'M', 'F', 'M', 'M', 'F', 'F'])\r\n",
        "X [X < 0.7] = 0"
      ],
      "execution_count": 59,
      "outputs": []
    },
    {
      "cell_type": "markdown",
      "metadata": {
        "id": "h8gm9O1Ii4Si"
      },
      "source": [
        "#### **2. Подготовка обучающей и тестовой выборок**  \r\n",
        "На данном шаге мы разделяешь наш набор данных на две выборки: *обучающую и тестовую*.  \r\n",
        "***Обучающая выборка (train set)*** - используется для обучения нашей модели, обычно обучающая выборка составляет 75 - 80% от всех данных.  \r\n",
        "***Тестовая выборка (test set)*** - используется для проверки точности прогнозирования нашей модели. Обычно составляет 20 - 25% от всех данных."
      ]
    },
    {
      "cell_type": "code",
      "metadata": {
        "id": "MxfjvtuYjK_N"
      },
      "source": [
        "from sklearn.model_selection import train_test_split\r\n",
        "\r\n",
        "X_train, X_test, y_train, y_test = train_test_split(X, y, random_state=0)"
      ],
      "execution_count": 60,
      "outputs": []
    },
    {
      "cell_type": "markdown",
      "metadata": {
        "id": "5lif6XUjlATu"
      },
      "source": [
        "#### **3. Предобработка данных**  \r\n",
        "  \r\n",
        "К видам предобработки можно отнести:  \r\n",
        "*3.1 Стандартизация;*  \r\n",
        "*3.2 Нормализация;*  \r\n",
        "*3.3 Бинаризация;*  \r\n",
        "*3.4 Замена недостающих значений и мн. др.*  \r\n",
        "  \r\n",
        "В коде ниже представлен пример стандартизации:"
      ]
    },
    {
      "cell_type": "code",
      "metadata": {
        "id": "KaTA3y5R_Gz6"
      },
      "source": [
        "from sklearn.preprocessing import StandardScaler, Normalizer\r\n",
        "\r\n",
        "scaler = StandardScaler().fit(X_train)\r\n",
        "standardized_X = scaler.transform(X_train)\r\n",
        "standardized_X_test = scaler.transform(X_test)\r\n",
        "\r\n",
        "scaler_norm = Normalizer().fit(X_train)\r\n",
        "normalized_X = scaler_norm.transform(X_train)\r\n",
        "normalized_X_test = scaler_norm.transform(X_test)"
      ],
      "execution_count": 61,
      "outputs": []
    },
    {
      "cell_type": "markdown",
      "metadata": {
        "id": "S4ii3qkXAI0S"
      },
      "source": [
        "#### **4. Создание модели машинного обучения (ML - Machine Learning)**  \r\n",
        "Различают 2 вида обучения моделей ML: **с учителем (supervised)** и **без учителя (unsupervised)**.  \r\n",
        " \r\n",
        "\r\n",
        "\r\n"
      ]
    },
    {
      "cell_type": "markdown",
      "metadata": {
        "id": "z_T8TNznJZKS"
      },
      "source": [
        "##### 4.1 В Scikit существуют следующие реализации обучения с учителем: "
      ]
    },
    {
      "cell_type": "markdown",
      "metadata": {
        "id": "driHRZTKJDpi"
      },
      "source": [
        "###### 4.1.1 Линейная регрессия (Linear Regression);  "
      ]
    },
    {
      "cell_type": "code",
      "metadata": {
        "id": "Q1njwWK-H8a0"
      },
      "source": [
        "from sklearn.linear_model import LinearRegression\r\n",
        "lr = LinearRegression(normalize=True)"
      ],
      "execution_count": 62,
      "outputs": []
    },
    {
      "cell_type": "markdown",
      "metadata": {
        "id": "5QWriAsJH8m5"
      },
      "source": [
        "###### 4.1.2 Метод опорных векторов (SVC - Support Vector Machine);  \r\n"
      ]
    },
    {
      "cell_type": "code",
      "metadata": {
        "id": "sNQbzskdH9mt"
      },
      "source": [
        "from sklearn.svm import SVC\r\n",
        "svc = SVC(kernel='linear')"
      ],
      "execution_count": 63,
      "outputs": []
    },
    {
      "cell_type": "markdown",
      "metadata": {
        "id": "3wzpZ5vkH-Aa"
      },
      "source": [
        "###### 4.1.3 Наивный байесовский классификатор (Naive Bayes);  \r\n"
      ]
    },
    {
      "cell_type": "code",
      "metadata": {
        "id": "bqnFwZgrH_Dw"
      },
      "source": [
        "from sklearn.naive_bayes import GaussianNB\r\n",
        "gnb = GaussianNB()"
      ],
      "execution_count": 64,
      "outputs": []
    },
    {
      "cell_type": "markdown",
      "metadata": {
        "id": "OQK4FUBpH_lY"
      },
      "source": [
        "###### 4.1.4 Метод k-ближайших соседей (KNN - k-nearest neighbors);  "
      ]
    },
    {
      "cell_type": "code",
      "metadata": {
        "id": "vPmcQudvIABm"
      },
      "source": [
        "from sklearn import neighbors\r\n",
        "knn = neighbors.KNeighborsClassifier(n_neighbors=5)"
      ],
      "execution_count": 65,
      "outputs": []
    },
    {
      "cell_type": "markdown",
      "metadata": {
        "id": "RHvk1ANaJTLD"
      },
      "source": [
        "##### 4.2 В Scikit существуют следующие реализации обучения без учителя:"
      ]
    },
    {
      "cell_type": "markdown",
      "metadata": {
        "id": "oWU91p6VJnAq"
      },
      "source": [
        "###### 4.2.1 Метод главных компонент (Principal Component Analysis)\r\n",
        "\r\n"
      ]
    },
    {
      "cell_type": "code",
      "metadata": {
        "id": "IKepKEpDKfGT"
      },
      "source": [
        "from sklearn.decomposition import PCA\r\n",
        "pca = PCA(n_components=0.95)"
      ],
      "execution_count": 66,
      "outputs": []
    },
    {
      "cell_type": "markdown",
      "metadata": {
        "id": "jNIeSzqIKuR9"
      },
      "source": [
        "###### 4.2.2 Метод k-средних (K-means):"
      ]
    },
    {
      "cell_type": "code",
      "metadata": {
        "id": "JWyTWlRNLwZs"
      },
      "source": [
        "from sklearn.cluster import KMeans\r\n",
        "k_means = KMeans(n_clusters=3, random_state=0)"
      ],
      "execution_count": 67,
      "outputs": []
    },
    {
      "cell_type": "markdown",
      "metadata": {
        "id": "5jPuIc4FMD5k"
      },
      "source": [
        "#### 5. Обучение модели\r\n",
        "Обучение модели зачастую происходит вызовом функции fit(x,y) у модели"
      ]
    },
    {
      "cell_type": "code",
      "metadata": {
        "id": "lwW8CUhANJlP"
      },
      "source": [
        "#supervised\r\n",
        "knn.fit(X_train, y_train)\r\n",
        "svc.fit(X_train, y_train)\r\n",
        "\r\n",
        "#unsupervised\r\n",
        "k_means.fit(X_train)\r\n",
        "pca_model = pca.fit_transform(X_train)"
      ],
      "execution_count": 68,
      "outputs": []
    },
    {
      "cell_type": "markdown",
      "metadata": {
        "id": "EPYxjMU1QL9v"
      },
      "source": [
        "#### 6. Испытание обученной модели"
      ]
    },
    {
      "cell_type": "code",
      "metadata": {
        "id": "Pyg0TqRzQg6e"
      },
      "source": [
        "y_pred_svc = svc.predict(np.random.random((2,5)))\r\n",
        "y_pred_knn = knn.predict_proba(X_test)\r\n",
        "\r\n",
        "y_pred_k_means = k_means.predict(X_test)"
      ],
      "execution_count": 69,
      "outputs": []
    },
    {
      "cell_type": "markdown",
      "metadata": {
        "id": "EPBuokWxRFnT"
      },
      "source": [
        "#### 7. Оценка модели\r\n",
        "\r\n"
      ]
    },
    {
      "cell_type": "markdown",
      "metadata": {
        "id": "Ln-12hz-Rl7P"
      },
      "source": [
        "Существуют разные методы оценивания модели, но мы рассмотрим оценку точности:"
      ]
    },
    {
      "cell_type": "code",
      "metadata": {
        "colab": {
          "base_uri": "https://localhost:8080/"
        },
        "id": "fhsaKtdWRk6j",
        "outputId": "a542cd9f-605b-4048-faaa-4d5a7e93e2ec"
      },
      "source": [
        "knn.score(X_test, y_test)"
      ],
      "execution_count": 74,
      "outputs": [
        {
          "output_type": "execute_result",
          "data": {
            "text/plain": [
              "0.3333333333333333"
            ]
          },
          "metadata": {
            "tags": []
          },
          "execution_count": 74
        }
      ]
    }
  ]
}