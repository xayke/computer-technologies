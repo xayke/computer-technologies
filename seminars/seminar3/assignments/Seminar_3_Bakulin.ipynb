{
  "nbformat": 4,
  "nbformat_minor": 0,
  "metadata": {
    "colab": {
      "name": "Seminar_3_Bakulin.ipynb",
      "provenance": [],
      "collapsed_sections": []
    },
    "kernelspec": {
      "name": "python3",
      "display_name": "Python 3"
    }
  },
  "cells": [
    {
      "cell_type": "markdown",
      "metadata": {
        "id": "Vqouk2phknva"
      },
      "source": [
        "# Семинар 3\r\n",
        "## Работа с данными в Python. Pandas"
      ]
    },
    {
      "cell_type": "markdown",
      "metadata": {
        "id": "Up_ftUXtkpjW"
      },
      "source": [
        "### Основы работы с Pandas\r\n",
        "Pandas - это библиотека, основанная на NumPy, которая предоставляет легкие в применении структуры данных и инструменты для анализа данных.  \r\n",
        "Рассмотрим такую структуру данных, как Series.  \r\n",
        "**Series** - это маркированный одномерный массив, который может хранить данные любого типа. Похож на HashMap.\r\n",
        "**ВНИМАНИЕ: для перед выполнением каждого последующего кода следует запустить предыдущие как минимум 1 раз для инициализации переменных в памяти виртуальной среды.**\r\n"
      ]
    },
    {
      "cell_type": "code",
      "metadata": {
        "colab": {
          "base_uri": "https://localhost:8080/"
        },
        "id": "TYrCkPDnyGLT",
        "outputId": "8b0c748a-7de1-40eb-ba7f-29bd45b40135"
      },
      "source": [
        "import pandas as pd\r\n",
        "\r\n",
        "series = pd.Series([1, 0, -5, 10], index=['a', 'b', 'c', 'd'])\r\n",
        "print(series)"
      ],
      "execution_count": 1,
      "outputs": [
        {
          "output_type": "stream",
          "text": [
            "a     1\n",
            "b     0\n",
            "c    -5\n",
            "d    10\n",
            "dtype: int64\n"
          ],
          "name": "stdout"
        }
      ]
    },
    {
      "cell_type": "markdown",
      "metadata": {
        "id": "MP9CdRnRUSkZ"
      },
      "source": [
        "**Data Frame** - это маркированная двумерная структура данных, где в разных колонках могут быть совершенно разные типы данных. "
      ]
    },
    {
      "cell_type": "code",
      "metadata": {
        "colab": {
          "base_uri": "https://localhost:8080/"
        },
        "id": "3qL-b3TtZ6ne",
        "outputId": "195f06b4-09fa-446d-8b6c-ef68f8fa69d9"
      },
      "source": [
        "data = {'Country': ['Belgium', 'India', 'Brazil', 'Russia'],\r\n",
        "        'Capital': ['Brussels', 'New Delhi', 'Brasilia', 'Moscow'],\r\n",
        "        'Population': [11190846, 1303171035, 207847528, 145963367]}\r\n",
        "data_frame = pd.DataFrame(data,\r\n",
        "                          columns=['Country', 'Capital', 'Population'])\r\n",
        "print(data_frame)"
      ],
      "execution_count": 2,
      "outputs": [
        {
          "output_type": "stream",
          "text": [
            "   Country    Capital  Population\n",
            "0  Belgium   Brussels    11190846\n",
            "1    India  New Delhi  1303171035\n",
            "2   Brazil   Brasilia   207847528\n",
            "3   Russia     Moscow   145963367\n"
          ],
          "name": "stdout"
        }
      ]
    },
    {
      "cell_type": "markdown",
      "metadata": {
        "id": "hN5snmLFxJYX"
      },
      "source": [
        "С этими структурами данных можно проводить разные операции. Рассмотрим самые обычные операции выборки:"
      ]
    },
    {
      "cell_type": "code",
      "metadata": {
        "colab": {
          "base_uri": "https://localhost:8080/"
        },
        "id": "H_0INg_7xWGU",
        "outputId": "41ea189e-5a3b-4b89-d6bf-189bbef096f5"
      },
      "source": [
        "c_element = series['c']\r\n",
        "print(\"Элемент c из серии: %s\" % c_element)\r\n",
        "\r\n",
        "selection = data_frame[-2:]\r\n",
        "print(\"\\nПоследние 2 элемента Data Frame: \\n%s\" % selection)\r\n",
        "\r\n",
        "more_than_200_million_pop = data_frame[data_frame['Population'] > 200_000_000]\r\n",
        "print(\"\\nГорода с населением больше 200,000,000: \\n%s\" % more_than_200_million_pop)\r\n",
        "\r\n"
      ],
      "execution_count": 3,
      "outputs": [
        {
          "output_type": "stream",
          "text": [
            "Элемент c из серии: -5\n",
            "\n",
            "Последние 2 элемента Data Frame: \n",
            "  Country   Capital  Population\n",
            "2  Brazil  Brasilia   207847528\n",
            "3  Russia    Moscow   145963367\n",
            "\n",
            "Города с населением больше 200,000,000: \n",
            "  Country    Capital  Population\n",
            "1   India  New Delhi  1303171035\n",
            "2  Brazil   Brasilia   207847528\n"
          ],
          "name": "stdout"
        }
      ]
    },
    {
      "cell_type": "markdown",
      "metadata": {
        "id": "-TDVZuG91Ryy"
      },
      "source": [
        "В целом работа с массивами в pandas почти идентична, как работа с разномерными массивами в numpy и scipy, но со своими дополнениями в виде индексов."
      ]
    },
    {
      "cell_type": "markdown",
      "metadata": {
        "id": "HP0YNxvPkqZp"
      },
      "source": [
        "### Обработка данных в Pandas.\r\n",
        "\r\n",
        "Pandas является гибким инструментом при работе с табличными данными, предоставляя широкий спектр возможностей.  \r\n",
        "Большинство методов Pandas возвращают результат в виде DataFrame'а\r\n"
      ]
    },
    {
      "cell_type": "code",
      "metadata": {
        "colab": {
          "base_uri": "https://localhost:8080/"
        },
        "id": "_q8gWZSIo3Rx",
        "outputId": "6440d402-f591-4bda-d889-a04fec0e6de7"
      },
      "source": [
        "sorted_by_pop = data_frame.sort_values('Population')\r\n",
        "print(\"Sorted data frame by population:\\n\\n%s\\n------------------------------\" \r\n",
        "      % sorted_by_pop)\r\n",
        "\r\n",
        "reverse_sorted_by_pop = data_frame.sort_values('Population', ascending=False)\r\n",
        "print(\"Reverse sorted data frame by population:\\n\\n%s\\n------------------------------\" \r\n",
        "      % reverse_sorted_by_pop)\r\n",
        "\r\n",
        "first_two_rows = data_frame.head(2)\r\n",
        "print(\"First two rows: \\n\\n%s\\n------------------------------\" \r\n",
        "      % first_two_rows)\r\n",
        "\r\n",
        "last_two_rows = data_frame.tail(2)\r\n",
        "print(\"Last two rows: \\n\\n%s\\n------------------------------\" \r\n",
        "      % last_two_rows)\r\n",
        "\r\n",
        "concat_data_frames = pd.concat([first_two_rows, last_two_rows])\r\n",
        "print(\"Concatenated  two previous data frames: \\n\\n%s\\n------------------------------\" \r\n",
        "      % concat_data_frames)\r\n",
        "\r\n",
        "print(\"Where 'Capital' == 'Moscow' statement: \\n\\n%s\\n------------------------------\" \r\n",
        "      % data_frame[data_frame['Capital'] == 'Moscow'])\r\n",
        "\r\n",
        "print(\"Specific field ('Population') selection: \\n\\n%s\\n------------------------------\" \r\n",
        "      % data_frame['Population'])\r\n",
        "\r\n",
        "time_zone = pd.DataFrame({'Time Zone': ['UTC +1', 'UTC +5:30', 'UTC −3', 'UTC +3']})\r\n",
        "added_time_zone_column = pd.concat([data_frame, time_zone], axis=1)\r\n",
        "print(\"Extended data frame: \\n\\n%s\\n------------------------------\" \r\n",
        "      % added_time_zone_column)\r\n",
        "\r\n",
        "pivoted_country = data_frame.pivot(columns='Country', values='Population')\r\n",
        "print(\"Population by countries: \\n\\n%s\\n------------------------------\" \r\n",
        "      % pivoted_country)\r\n",
        "\r\n",
        "droped_capital = data_frame.drop(columns=['Capital'])\r\n",
        "print(\"Data frame without 'Capital' column: \\n\\n%s\\n------------------------------\" \r\n",
        "      % droped_capital)"
      ],
      "execution_count": 32,
      "outputs": [
        {
          "output_type": "stream",
          "text": [
            "Sorted data frame by population:\n",
            "\n",
            "   Country    Capital  Population\n",
            "0  Belgium   Brussels    11190846\n",
            "3   Russia     Moscow   145963367\n",
            "2   Brazil   Brasilia   207847528\n",
            "1    India  New Delhi  1303171035\n",
            "------------------------------\n",
            "Reverse sorted data frame by population:\n",
            "\n",
            "   Country    Capital  Population\n",
            "1    India  New Delhi  1303171035\n",
            "2   Brazil   Brasilia   207847528\n",
            "3   Russia     Moscow   145963367\n",
            "0  Belgium   Brussels    11190846\n",
            "------------------------------\n",
            "First two rows: \n",
            "\n",
            "   Country    Capital  Population\n",
            "0  Belgium   Brussels    11190846\n",
            "1    India  New Delhi  1303171035\n",
            "------------------------------\n",
            "Last two rows: \n",
            "\n",
            "  Country   Capital  Population\n",
            "2  Brazil  Brasilia   207847528\n",
            "3  Russia    Moscow   145963367\n",
            "------------------------------\n",
            "Concatenated  two previous data frames: \n",
            "\n",
            "   Country    Capital  Population\n",
            "0  Belgium   Brussels    11190846\n",
            "1    India  New Delhi  1303171035\n",
            "2   Brazil   Brasilia   207847528\n",
            "3   Russia     Moscow   145963367\n",
            "------------------------------\n",
            "Where 'Capital' == 'Moscow' statement: \n",
            "\n",
            "  Country Capital  Population\n",
            "3  Russia  Moscow   145963367\n",
            "------------------------------\n",
            "Specific field ('Population') selection: \n",
            "\n",
            "0      11190846\n",
            "1    1303171035\n",
            "2     207847528\n",
            "3     145963367\n",
            "Name: Population, dtype: int64\n",
            "------------------------------\n",
            "Extended data frame: \n",
            "\n",
            "   Country    Capital  Population  Time Zone\n",
            "0  Belgium   Brussels    11190846     UTC +1\n",
            "1    India  New Delhi  1303171035  UTC +5:30\n",
            "2   Brazil   Brasilia   207847528     UTC −3\n",
            "3   Russia     Moscow   145963367     UTC +3\n",
            "------------------------------\n",
            "Population by countries: \n",
            "\n",
            "Country     Belgium       Brazil         India       Russia\n",
            "0        11190846.0          NaN           NaN          NaN\n",
            "1               NaN          NaN  1.303171e+09          NaN\n",
            "2               NaN  207847528.0           NaN          NaN\n",
            "3               NaN          NaN           NaN  145963367.0\n",
            "------------------------------\n",
            "Data frame without 'Capital' column: \n",
            "\n",
            "   Country  Population\n",
            "0  Belgium    11190846\n",
            "1    India  1303171035\n",
            "2   Brazil   207847528\n",
            "3   Russia   145963367\n",
            "------------------------------\n"
          ],
          "name": "stdout"
        }
      ]
    }
  ]
}