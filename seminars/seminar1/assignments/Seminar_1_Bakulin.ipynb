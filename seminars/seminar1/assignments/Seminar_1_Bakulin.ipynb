{
  "nbformat": 4,
  "nbformat_minor": 0,
  "metadata": {
    "colab": {
      "name": "Seminar_1_Bakulin.ipynb",
      "provenance": [],
      "collapsed_sections": [],
      "toc_visible": true
    },
    "kernelspec": {
      "name": "python3",
      "display_name": "Python 3"
    }
  },
  "cells": [
    {
      "cell_type": "markdown",
      "metadata": {
        "id": "hlPQoeREuM0z"
      },
      "source": [
        "# Семинар 1"
      ]
    },
    {
      "cell_type": "markdown",
      "metadata": {
        "id": "8EdWG2naFvAg"
      },
      "source": [
        "## Introduction to Python\r\n",
        "\r\n",
        "Python является довольно гибким языком программирования с динамической типизацией.  \r\n",
        "Для создания переменной в Python не надо указывать её тип, достаточно только указать название."
      ]
    },
    {
      "cell_type": "code",
      "metadata": {
        "id": "agKyZkMHLuKr"
      },
      "source": [
        "age = 13\r\n",
        "print(age)"
      ],
      "execution_count": null,
      "outputs": []
    },
    {
      "cell_type": "markdown",
      "metadata": {
        "id": "I-zAkLssPeKh"
      },
      "source": [
        "Так же есть ряд полезных функций для работы с массивами, например:"
      ]
    },
    {
      "cell_type": "code",
      "metadata": {
        "id": "6QxPXcO6PzBK"
      },
      "source": [
        "arr = [5, 9, 12, 1, 7, 12, 0, 32, 6, 12]\r\n",
        "print(\"В массиве под индексом #5 находится элемент: \" + str(arr[5])) ## выведет 0\r\n",
        "\r\n",
        "arr.append(24) ## добавит элемент 24 в конец массива\r\n",
        "print(\"Добавлен новый элемент: \" + str(arr[-1]))\r\n",
        "print(arr)\r\n",
        "\r\n",
        "print(\"Первый элемент был удалён: \" + str(arr.pop(0))) ## выведет первый элемент массива и удалит его\r\n",
        "print(arr)\r\n",
        "\r\n",
        "print(arr.count(12)) ## выведет количество элементов 12 в списке"
      ],
      "execution_count": null,
      "outputs": []
    },
    {
      "cell_type": "markdown",
      "metadata": {
        "id": "ckx5d0ZkkLPd"
      },
      "source": [
        "Объекты в Python работают так же, как и в JavaScript и похожи на стандарт JSON, что упрощает работу с ними и их передачу по сети и работу с ними.  В целом такие объекты работают, как структура данных HashMap, т.е. по парам \"ключ-значение\", где доступ к значению осуществляется по ключу."
      ]
    },
    {
      "cell_type": "code",
      "metadata": {
        "id": "c_TpFCr3kdTP"
      },
      "source": [
        "person = {} ##создаем пустой объект\r\n",
        "person['name'] = 'Sergey'\r\n",
        "person['age'] = 28\r\n",
        "person['married'] = True\r\n",
        "print(person)"
      ],
      "execution_count": null,
      "outputs": []
    },
    {
      "cell_type": "markdown",
      "metadata": {
        "id": "fRrr6o3Zl-ib"
      },
      "source": [
        "Также в Python предоставляет ряд возможностей при работе со строками:"
      ]
    },
    {
      "cell_type": "code",
      "metadata": {
        "id": "PmfpAH8JmHTk"
      },
      "source": [
        "person = {'name': 'Alex', 'age': 22, 'country': 'Sweden'}\r\n",
        "greeting = 'Hi, my name is {name}. I\\'m {age} years old. I\\'m from {country}.'.format(**person)\r\n",
        "\r\n",
        "print(greeting)\r\n",
        "\r\n",
        "big_capitals = 'NO CAPS ALLOWED'\r\n",
        "low_capitals = big_capitals.lower()\r\n",
        "\r\n",
        "print(low_capitals)\r\n",
        "\r\n",
        "wow = 'Wow '\r\n",
        "double_wow = wow * 2\r\n",
        "\r\n",
        "print(double_wow)"
      ],
      "execution_count": null,
      "outputs": []
    },
    {
      "cell_type": "markdown",
      "metadata": {
        "id": "EkQ5i3B-rraC"
      },
      "source": [
        "Для математических операций часто пользуются мощными готовыми библиотеками, например numpy."
      ]
    },
    {
      "cell_type": "code",
      "metadata": {
        "id": "jhFeQ6rnsAHo"
      },
      "source": [
        "import numpy as np\r\n",
        "\r\n",
        "python_list = [1, 2, 3, 4]\r\n",
        "np_array = np.array(python_list)\r\n",
        "np_2d_array = np.array([[1, 1, 1], [1, 1, 1], [1, 1, 1]])\r\n",
        "print(np_array)\r\n",
        "print(np_2d_array)\r\n",
        "\r\n",
        "median = np.median(np_array) # медиана (ср. значение)\r\n",
        "print(median)"
      ],
      "execution_count": null,
      "outputs": []
    },
    {
      "cell_type": "markdown",
      "metadata": {
        "id": "Zvci34V7uCJb"
      },
      "source": [
        "## Import Data for Data Science in Python  \r\n",
        "Вся работа в Python строится на использование готовых библиотек, разнообразие которых просто шокирует. Особенно популярными являеются библиотеки для работы с числами, математикой и аспектами анализа данных. Одними из самых популярных библиотек дял работы с данными являются numpy и pandas.\r\n",
        "Их добавление в проект происходит при помощи"
      ]
    },
    {
      "cell_type": "code",
      "metadata": {
        "id": "EXt581QPwT98"
      },
      "source": [
        "import numpy as np\r\n",
        "import pandas as pd"
      ],
      "execution_count": 27,
      "outputs": []
    },
    {
      "cell_type": "markdown",
      "metadata": {
        "id": "UHnZ8gwDycjB"
      },
      "source": [
        "Для работы с данными, для начала следует перевести их в формат, с которым мы сможем работать в Python. Поэтому рассмотрим несколько возможных способов прочитать файлы различных форматов, для получения данных из них.  \r\n",
        "  \r\n",
        "**ВНИМАНИЕ: следующие примеры не будут работать в Jupyter Notebookm, т.к. отсутствуют соответствующие файлы в среде выполнения.**  \r\n",
        "Чтение данных из обычного текстового файла:"
      ]
    },
    {
      "cell_type": "code",
      "metadata": {
        "id": "EHR92eDrQuTO"
      },
      "source": [
        "filepath = 'data.txt' # указываем относительный путь к файлу\r\n",
        "file = open(filepath, mode='r') # открываем файл в режиме для чтения\r\n",
        "text = file.read() # читаем содержимое файла и записываем в переменную\r\n",
        "file.close() # закрываем файл (всегда следует закрывать файлы), в конце работы с ним\r\n",
        "print(text) # выводим на экран то, что прочитали из файла"
      ],
      "execution_count": null,
      "outputs": []
    },
    {
      "cell_type": "markdown",
      "metadata": {
        "id": "RpC-AHopas4I"
      },
      "source": [
        "То же чтение текстового файла, но уже при помощи numpy:"
      ]
    },
    {
      "cell_type": "code",
      "metadata": {
        "id": "RK8rvaLhg74a"
      },
      "source": [
        "filepath = 'data.txt' # указываем относительный путь к файлу\r\n",
        "data = np.loadtxt(filepath, \r\n",
        "                  delimiter=',', # символ, которым раззделяются данные\r\n",
        "                  skiprows=2, #количество пропускаемых строк\r\n",
        "                  usecols=[0, 2] # метка с номерами используемых колонок, в этом случае считывается только первая и третья колонки\r\n",
        "                  dtype=str) #тип результирующего массива\r\n",
        "                  "
      ],
      "execution_count": null,
      "outputs": []
    },
    {
      "cell_type": "markdown",
      "metadata": {
        "id": "sq1XfPrpV48j"
      },
      "source": [
        "В pandas чтение из csv файла происходит так: "
      ]
    },
    {
      "cell_type": "code",
      "metadata": {
        "id": "BGsbSUQ6WcEQ"
      },
      "source": [
        "filepath = 'data.сsv' # указываем относительный путь к файлу\r\n",
        "data = pd.read_csv(filepath, \r\n",
        "                  nrows=5, # указываем сколько рядов данных мы хотим прочитать из файла\r\n",
        "                  header=None, # номер столбца с названиями колонок\r\n",
        "                  sep='\\t', # символ, которым разделяются данные\r\n",
        "                  na_values=['']) # строка, для определения того, что данные не предоставлены\r\n",
        "                  "
      ],
      "execution_count": null,
      "outputs": []
    },
    {
      "cell_type": "markdown",
      "metadata": {
        "id": "GJ3o7MH0Xy1s"
      },
      "source": [
        "Также существует множество других вариантов работы с разными форматами данных и базами данных."
      ]
    }
  ]
}